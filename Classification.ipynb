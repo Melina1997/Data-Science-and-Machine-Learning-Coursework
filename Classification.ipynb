{
 "cells": [
  {
   "cell_type": "markdown",
   "metadata": {},
   "source": [
    "# Assignment 2 "
   ]
  },
  {
   "cell_type": "markdown",
   "metadata": {},
   "source": [
    "## Question 1: Data Cleaning"
   ]
  },
  {
   "cell_type": "markdown",
   "metadata": {},
   "source": [
    "- Find missing values and either fill them or delete entire column\n",
    "- Encode all categorical data\n",
    "- only a few features will be deleted in this section, most of the feature selection will be done in question 2. \n",
    "\n",
    "All data cleaning that is being done is going to be done on the whole data set"
   ]
  },
  {
   "cell_type": "code",
   "execution_count": 1,
   "metadata": {},
   "outputs": [],
   "source": [
    "#importing all needed libararies\n",
    "import pandas as pd\n",
    "import numpy as np\n",
    "import matplotlib.pyplot as plt\n",
    "import seaborn as sns\n",
    "\n",
    "from sklearn.model_selection import train_test_split\n",
    "from sklearn.preprocessing import StandardScaler\n",
    "from sklearn.linear_model import LogisticRegression\n",
    "from sklearn.model_selection import KFold\n",
    "from sklearn.metrics import r2_score, mean_squared_error, mean_absolute_error\n",
    "\n",
    "from sklearn.feature_selection import SelectKBest\n",
    "from sklearn.feature_selection import mutual_info_classif\n",
    "\n",
    "from sklearn.multiclass import OneVsRestClassifier \n",
    "from sklearn.linear_model import LogisticRegression\n",
    "from sklearn.metrics import accuracy_score, classification_report \n",
    "import warnings \n",
    "\n",
    "from sklearn.model_selection import GridSearchCV"
   ]
  },
  {
   "cell_type": "code",
   "execution_count": 2,
   "metadata": {},
   "outputs": [],
   "source": [
    "import warnings\n",
    "#filtering out the warning pop ups \n",
    "warnings.filterwarnings(\"ignore\")"
   ]
  },
  {
   "cell_type": "markdown",
   "metadata": {},
   "source": [
    "##### Importing the Data"
   ]
  },
  {
   "cell_type": "code",
   "execution_count": 3,
   "metadata": {},
   "outputs": [],
   "source": [
    "#reading the csv file \n",
    "df = pd.read_csv('clean_kaggle_data_2020.csv')"
   ]
  },
  {
   "cell_type": "code",
   "execution_count": 4,
   "metadata": {},
   "outputs": [
    {
     "data": {
      "text/html": [
       "<div>\n",
       "<style scoped>\n",
       "    .dataframe tbody tr th:only-of-type {\n",
       "        vertical-align: middle;\n",
       "    }\n",
       "\n",
       "    .dataframe tbody tr th {\n",
       "        vertical-align: top;\n",
       "    }\n",
       "\n",
       "    .dataframe thead th {\n",
       "        text-align: right;\n",
       "    }\n",
       "</style>\n",
       "<table border=\"1\" class=\"dataframe\">\n",
       "  <thead>\n",
       "    <tr style=\"text-align: right;\">\n",
       "      <th></th>\n",
       "      <th>Time from Start to Finish (seconds)</th>\n",
       "      <th>Q1</th>\n",
       "      <th>Q2</th>\n",
       "      <th>Q3</th>\n",
       "      <th>Q4</th>\n",
       "      <th>Q5</th>\n",
       "      <th>Q6</th>\n",
       "      <th>Q7_Part_1</th>\n",
       "      <th>Q7_Part_2</th>\n",
       "      <th>Q7_Part_3</th>\n",
       "      <th>...</th>\n",
       "      <th>Q35_B_Part_4</th>\n",
       "      <th>Q35_B_Part_5</th>\n",
       "      <th>Q35_B_Part_6</th>\n",
       "      <th>Q35_B_Part_7</th>\n",
       "      <th>Q35_B_Part_8</th>\n",
       "      <th>Q35_B_Part_9</th>\n",
       "      <th>Q35_B_Part_10</th>\n",
       "      <th>Q35_B_OTHER</th>\n",
       "      <th>Q24_Encoded</th>\n",
       "      <th>Q24_buckets</th>\n",
       "    </tr>\n",
       "  </thead>\n",
       "  <tbody>\n",
       "    <tr>\n",
       "      <th>0</th>\n",
       "      <td>Duration (in seconds)</td>\n",
       "      <td>What is your age (# years)?</td>\n",
       "      <td>What is your gender? - Selected Choice</td>\n",
       "      <td>In which country do you currently reside?</td>\n",
       "      <td>What is the highest level of formal education ...</td>\n",
       "      <td>Select the title most similar to your current ...</td>\n",
       "      <td>For how many years have you been writing code ...</td>\n",
       "      <td>What programming languages do you use on a reg...</td>\n",
       "      <td>What programming languages do you use on a reg...</td>\n",
       "      <td>What programming languages do you use on a reg...</td>\n",
       "      <td>...</td>\n",
       "      <td>In the next 2 years, do you hope to become mor...</td>\n",
       "      <td>In the next 2 years, do you hope to become mor...</td>\n",
       "      <td>In the next 2 years, do you hope to become mor...</td>\n",
       "      <td>In the next 2 years, do you hope to become mor...</td>\n",
       "      <td>In the next 2 years, do you hope to become mor...</td>\n",
       "      <td>In the next 2 years, do you hope to become mor...</td>\n",
       "      <td>In the next 2 years, do you hope to become mor...</td>\n",
       "      <td>In the next 2 years, do you hope to become mor...</td>\n",
       "      <td>NaN</td>\n",
       "      <td>NaN</td>\n",
       "    </tr>\n",
       "    <tr>\n",
       "      <th>1</th>\n",
       "      <td>289287</td>\n",
       "      <td>30-34</td>\n",
       "      <td>Man</td>\n",
       "      <td>United States of America</td>\n",
       "      <td>Master’s degree</td>\n",
       "      <td>Data Engineer</td>\n",
       "      <td>5-10 years</td>\n",
       "      <td>Python</td>\n",
       "      <td>R</td>\n",
       "      <td>SQL</td>\n",
       "      <td>...</td>\n",
       "      <td>NaN</td>\n",
       "      <td>NaN</td>\n",
       "      <td>NaN</td>\n",
       "      <td>NaN</td>\n",
       "      <td>NaN</td>\n",
       "      <td>NaN</td>\n",
       "      <td>NaN</td>\n",
       "      <td>NaN</td>\n",
       "      <td>10.0</td>\n",
       "      <td>100,000-124,999</td>\n",
       "    </tr>\n",
       "    <tr>\n",
       "      <th>2</th>\n",
       "      <td>860</td>\n",
       "      <td>35-39</td>\n",
       "      <td>Man</td>\n",
       "      <td>Argentina</td>\n",
       "      <td>Bachelor’s degree</td>\n",
       "      <td>Software Engineer</td>\n",
       "      <td>10-20 years</td>\n",
       "      <td>NaN</td>\n",
       "      <td>NaN</td>\n",
       "      <td>NaN</td>\n",
       "      <td>...</td>\n",
       "      <td>NaN</td>\n",
       "      <td>NaN</td>\n",
       "      <td>NaN</td>\n",
       "      <td>NaN</td>\n",
       "      <td>NaN</td>\n",
       "      <td>NaN</td>\n",
       "      <td>None</td>\n",
       "      <td>NaN</td>\n",
       "      <td>1.0</td>\n",
       "      <td>10,000-19,999</td>\n",
       "    </tr>\n",
       "    <tr>\n",
       "      <th>3</th>\n",
       "      <td>507</td>\n",
       "      <td>30-34</td>\n",
       "      <td>Man</td>\n",
       "      <td>United States of America</td>\n",
       "      <td>Master’s degree</td>\n",
       "      <td>Data Scientist</td>\n",
       "      <td>5-10 years</td>\n",
       "      <td>Python</td>\n",
       "      <td>NaN</td>\n",
       "      <td>SQL</td>\n",
       "      <td>...</td>\n",
       "      <td>NaN</td>\n",
       "      <td>NaN</td>\n",
       "      <td>NaN</td>\n",
       "      <td>NaN</td>\n",
       "      <td>NaN</td>\n",
       "      <td>NaN</td>\n",
       "      <td>NaN</td>\n",
       "      <td>NaN</td>\n",
       "      <td>11.0</td>\n",
       "      <td>125,000-149,9991</td>\n",
       "    </tr>\n",
       "    <tr>\n",
       "      <th>4</th>\n",
       "      <td>762</td>\n",
       "      <td>35-39</td>\n",
       "      <td>Man</td>\n",
       "      <td>Germany</td>\n",
       "      <td>Doctoral degree</td>\n",
       "      <td>Data Scientist</td>\n",
       "      <td>5-10 years</td>\n",
       "      <td>Python</td>\n",
       "      <td>NaN</td>\n",
       "      <td>SQL</td>\n",
       "      <td>...</td>\n",
       "      <td>NaN</td>\n",
       "      <td>NaN</td>\n",
       "      <td>NaN</td>\n",
       "      <td>NaN</td>\n",
       "      <td>NaN</td>\n",
       "      <td>NaN</td>\n",
       "      <td>NaN</td>\n",
       "      <td>NaN</td>\n",
       "      <td>7.0</td>\n",
       "      <td>70,000-79,999</td>\n",
       "    </tr>\n",
       "  </tbody>\n",
       "</table>\n",
       "<p>5 rows × 357 columns</p>\n",
       "</div>"
      ],
      "text/plain": [
       "  Time from Start to Finish (seconds)                           Q1  \\\n",
       "0               Duration (in seconds)  What is your age (# years)?   \n",
       "1                              289287                        30-34   \n",
       "2                                 860                        35-39   \n",
       "3                                 507                        30-34   \n",
       "4                                 762                        35-39   \n",
       "\n",
       "                                       Q2  \\\n",
       "0  What is your gender? - Selected Choice   \n",
       "1                                     Man   \n",
       "2                                     Man   \n",
       "3                                     Man   \n",
       "4                                     Man   \n",
       "\n",
       "                                          Q3  \\\n",
       "0  In which country do you currently reside?   \n",
       "1                   United States of America   \n",
       "2                                  Argentina   \n",
       "3                   United States of America   \n",
       "4                                    Germany   \n",
       "\n",
       "                                                  Q4  \\\n",
       "0  What is the highest level of formal education ...   \n",
       "1                                    Master’s degree   \n",
       "2                                  Bachelor’s degree   \n",
       "3                                    Master’s degree   \n",
       "4                                    Doctoral degree   \n",
       "\n",
       "                                                  Q5  \\\n",
       "0  Select the title most similar to your current ...   \n",
       "1                                      Data Engineer   \n",
       "2                                  Software Engineer   \n",
       "3                                     Data Scientist   \n",
       "4                                     Data Scientist   \n",
       "\n",
       "                                                  Q6  \\\n",
       "0  For how many years have you been writing code ...   \n",
       "1                                         5-10 years   \n",
       "2                                        10-20 years   \n",
       "3                                         5-10 years   \n",
       "4                                         5-10 years   \n",
       "\n",
       "                                           Q7_Part_1  \\\n",
       "0  What programming languages do you use on a reg...   \n",
       "1                                             Python   \n",
       "2                                                NaN   \n",
       "3                                             Python   \n",
       "4                                             Python   \n",
       "\n",
       "                                           Q7_Part_2  \\\n",
       "0  What programming languages do you use on a reg...   \n",
       "1                                                  R   \n",
       "2                                                NaN   \n",
       "3                                                NaN   \n",
       "4                                                NaN   \n",
       "\n",
       "                                           Q7_Part_3  ...  \\\n",
       "0  What programming languages do you use on a reg...  ...   \n",
       "1                                                SQL  ...   \n",
       "2                                                NaN  ...   \n",
       "3                                                SQL  ...   \n",
       "4                                                SQL  ...   \n",
       "\n",
       "                                        Q35_B_Part_4  \\\n",
       "0  In the next 2 years, do you hope to become mor...   \n",
       "1                                                NaN   \n",
       "2                                                NaN   \n",
       "3                                                NaN   \n",
       "4                                                NaN   \n",
       "\n",
       "                                        Q35_B_Part_5  \\\n",
       "0  In the next 2 years, do you hope to become mor...   \n",
       "1                                                NaN   \n",
       "2                                                NaN   \n",
       "3                                                NaN   \n",
       "4                                                NaN   \n",
       "\n",
       "                                        Q35_B_Part_6  \\\n",
       "0  In the next 2 years, do you hope to become mor...   \n",
       "1                                                NaN   \n",
       "2                                                NaN   \n",
       "3                                                NaN   \n",
       "4                                                NaN   \n",
       "\n",
       "                                        Q35_B_Part_7  \\\n",
       "0  In the next 2 years, do you hope to become mor...   \n",
       "1                                                NaN   \n",
       "2                                                NaN   \n",
       "3                                                NaN   \n",
       "4                                                NaN   \n",
       "\n",
       "                                        Q35_B_Part_8  \\\n",
       "0  In the next 2 years, do you hope to become mor...   \n",
       "1                                                NaN   \n",
       "2                                                NaN   \n",
       "3                                                NaN   \n",
       "4                                                NaN   \n",
       "\n",
       "                                        Q35_B_Part_9  \\\n",
       "0  In the next 2 years, do you hope to become mor...   \n",
       "1                                                NaN   \n",
       "2                                                NaN   \n",
       "3                                                NaN   \n",
       "4                                                NaN   \n",
       "\n",
       "                                       Q35_B_Part_10  \\\n",
       "0  In the next 2 years, do you hope to become mor...   \n",
       "1                                                NaN   \n",
       "2                                               None   \n",
       "3                                                NaN   \n",
       "4                                                NaN   \n",
       "\n",
       "                                         Q35_B_OTHER Q24_Encoded  \\\n",
       "0  In the next 2 years, do you hope to become mor...         NaN   \n",
       "1                                                NaN        10.0   \n",
       "2                                                NaN         1.0   \n",
       "3                                                NaN        11.0   \n",
       "4                                                NaN         7.0   \n",
       "\n",
       "        Q24_buckets  \n",
       "0               NaN  \n",
       "1   100,000-124,999  \n",
       "2     10,000-19,999  \n",
       "3  125,000-149,9991  \n",
       "4     70,000-79,999  \n",
       "\n",
       "[5 rows x 357 columns]"
      ]
     },
     "execution_count": 4,
     "metadata": {},
     "output_type": "execute_result"
    }
   ],
   "source": [
    "#outputting the first 5 rows of the dataframe\n",
    "df.head()"
   ]
  },
  {
   "cell_type": "code",
   "execution_count": 5,
   "metadata": {},
   "outputs": [],
   "source": [
    "#outputting the questions from the survey. using display.max_rows to show all the questions\n",
    "#pd.set_option('display.max_rows', None)\n",
    "#df.iloc[0]\n",
    "\n",
    "#this part is commented out as it outputs a very long list and was only used for preparation. no actual actions were done to the data in these lines"
   ]
  },
  {
   "cell_type": "code",
   "execution_count": 6,
   "metadata": {},
   "outputs": [],
   "source": [
    "#deleting the first row - the row with the survey questions\n",
    "df.drop(df.head(1).index, inplace=True)"
   ]
  },
  {
   "cell_type": "code",
   "execution_count": 7,
   "metadata": {},
   "outputs": [
    {
     "data": {
      "text/plain": [
       "(10729, 357)"
      ]
     },
     "execution_count": 7,
     "metadata": {},
     "output_type": "execute_result"
    }
   ],
   "source": [
    "#finding the size of the data file\n",
    "df.shape"
   ]
  },
  {
   "cell_type": "code",
   "execution_count": 8,
   "metadata": {},
   "outputs": [],
   "source": [
    "#deleting the column Time from start to finish as it is irreleant to the actual survey and the target variable\n",
    "del df[(\"Time from Start to Finish (seconds)\")]"
   ]
  },
  {
   "cell_type": "code",
   "execution_count": 9,
   "metadata": {},
   "outputs": [
    {
     "data": {
      "text/plain": [
       "Index(['Q7_Part_1', 'Q7_Part_2', 'Q7_Part_3', 'Q7_Part_4', 'Q7_Part_5',\n",
       "       'Q7_Part_6', 'Q7_Part_7', 'Q7_Part_8', 'Q7_Part_9', 'Q7_Part_10',\n",
       "       ...\n",
       "       'Q35_B_Part_2', 'Q35_B_Part_3', 'Q35_B_Part_4', 'Q35_B_Part_5',\n",
       "       'Q35_B_Part_6', 'Q35_B_Part_7', 'Q35_B_Part_8', 'Q35_B_Part_9',\n",
       "       'Q35_B_Part_10', 'Q35_B_OTHER'],\n",
       "      dtype='object', length=344)"
      ]
     },
     "execution_count": 9,
     "metadata": {},
     "output_type": "execute_result"
    }
   ],
   "source": [
    "df.columns[df.isnull().any()]"
   ]
  },
  {
   "cell_type": "markdown",
   "metadata": {},
   "source": [
    "### Filling in missing values "
   ]
  },
  {
   "cell_type": "markdown",
   "metadata": {},
   "source": [
    "Since there are still columns that have missing values we will be doing the following: \n",
    "- If there is more than 50% missing values then we will drop those columns directly\n",
    "- if there is <50% missing values we will fill those values with the mode.\n",
    "\n",
    "Many of the missing data is because most of the questions in the survey are multiple choice questions. This means that even though there is only one 'Q7\" there are many parts to it because there are multiple answers the user can pick from. Therefore, these values are not technically 'missing' the parts of the question are split up to only have values where that specific selection is called (for. ex selection of 'Python' for programming language). Therefore, for these 'missing' values we can search the column names that have \"Part\" or \"OTHER\" in them indicating that they are a multiple choice question and assign the values to 1 and the 'missing' values to 0. Its the same as if all the multiple choice answers were all under Q7 and we decided to hot encode them. Because the choices are already seperated, we only binarize the columns\n",
    "\n",
    "Encoding Categorical Data: \n",
    "- For the columns that have ranges of values we will be using find and replace to replace the ranges with their average and/or 1,2,3 etc depending on what the value are representing (essentially label encoding)\n",
    "- For the columns with unique values that are not ranges we will be using dummy encoding"
   ]
  },
  {
   "cell_type": "code",
   "execution_count": 10,
   "metadata": {},
   "outputs": [
    {
     "name": "stdout",
     "output_type": "stream",
     "text": [
      "Q8 561 0.052288190884518596\n",
      "Q11 561 0.052288190884518596\n",
      "Q13 561 0.052288190884518596\n",
      "Q15 561 0.052288190884518596\n",
      "Q25 159 0.014819647683847517\n",
      "Q30 7216 0.6725696709851804\n",
      "Q32 9231 0.8603784136452605\n",
      "Q38 1253 0.11678628017522602\n"
     ]
    }
   ],
   "source": [
    "# Find the columns with missing values that are from multiple choice questions and replacing 0 and 1 for the values\n",
    "for col_name in df.columns:\n",
    "    #if Part or OTHER is in the column name apply the for loop\n",
    "    if \"Part\" in col_name or 'OTHER' in col_name:\n",
    "        df[col_name] = df[col_name].isnull().map({True:0, False:1})\n",
    "    #finding the amount of null entries related to total entries \n",
    "    null_n = len(df[df[col_name].isnull()])\n",
    "    #if theres null values, print out from where, how many and the percentage\n",
    "    if null_n:\n",
    "        print(col_name, null_n, null_n / df.shape[0])"
   ]
  },
  {
   "cell_type": "markdown",
   "metadata": {},
   "source": [
    "Here it is notable that Q32 and Q30 have more than 50% missing data. \n",
    "Columns Q8,Q11,Q13,Q15,Q25, and Q38 are all lower than 15% so if appropriate, their missing values will be filled with the columns mode. This can affect the model results however it is deemed appropriate at this step. "
   ]
  },
  {
   "cell_type": "code",
   "execution_count": 11,
   "metadata": {},
   "outputs": [],
   "source": [
    "# Deleting the columns that have more than 50% of missing values \n",
    "percent_missing = df.isnull().sum() / len(df)\n",
    "missing_features = percent_missing[percent_missing > 0.50].index\n",
    "df.drop(missing_features, axis=1, inplace=True)"
   ]
  },
  {
   "cell_type": "code",
   "execution_count": 12,
   "metadata": {},
   "outputs": [],
   "source": [
    "#replacing missing values with mode\n",
    "\n",
    "#replacing the missing values in Q8 with the mode\n",
    "for column in ['Q8']:\n",
    "    df[column].fillna(df[column].mode()[0], inplace=True)\n",
    "    \n",
    "#replaceing the missing values in Q38 with the mode\n",
    "for column in ['Q38']:\n",
    "    df[column].fillna(df[column].mode()[0], inplace=True)\n",
    "\n",
    "#replacing the missing values in Q15 with the mode\n",
    "for column in ['Q15']:\n",
    "    df[column].fillna(df[column].mode()[0], inplace=True)\n",
    "    \n",
    "#replaceing the missing values in Q11 with the mode\n",
    "for column in ['Q11']:\n",
    "    df[column].fillna(df[column].mode()[0], inplace=True)\n",
    "    \n",
    "#replaceing the missing values in Q13 with the mode\n",
    "for column in ['Q13']:\n",
    "    df[column].fillna(df[column].mode()[0], inplace=True)\n",
    "\n",
    "#replaceing the missing values in Q25 with the mode\n",
    "for column in ['Q25']:\n",
    "    df[column].fillna(df[column].mode()[0], inplace=True)"
   ]
  },
  {
   "cell_type": "markdown",
   "metadata": {},
   "source": [
    "### Encoding"
   ]
  },
  {
   "cell_type": "markdown",
   "metadata": {},
   "source": [
    "There are many types of encoding methods such as Find and Replace, Label Encoding, One Hot Encoding, Dummy Encoding and more. \n",
    "\n",
    "A version of 'Find and Replace' was used for Q1,Q6,Q15,Q13,Q20,Q21,Q25 as these questions involed ranges as answers. Instead of labelling them in numeric order (1,2,3,4,5) i used the average number or so for each range to better represent that range. Find and Replace was used here as it made more sense than the other methods as these columns still contain numeric values, they are just in a range format. Label encoding assumes an order to the values and that can sometimes be a problem when values do not have an order to them (example: python and R). However, for the columsn listed here, they are numeric ranges, therefore label encoding could have also been used."
   ]
  },
  {
   "cell_type": "markdown",
   "metadata": {},
   "source": [
    "#### Find and Replace"
   ]
  },
  {
   "cell_type": "code",
   "execution_count": 13,
   "metadata": {},
   "outputs": [],
   "source": [
    "#Find and Replace\n",
    "\n",
    "#converting age ranges to their averages to give an idea when looking at the data the range they are in \n",
    "Q1 = {'18-21':19, '22-24':23, '25-29':27, '30-34':32, '35-39':37, '40-44':42, '45-49':47, '50-54':52, '55-59':57, \n",
    "         '60-69':64, '70+':70}\n",
    "df['Q1'] = df['Q1'].map(Q1)\n",
    "\n",
    "#converting years of experience to relatively the middle number of each range\n",
    "Q6 = {'I have never written code':0, '< 1 years':1, '1-2 years':2, '3-5 years':4,\n",
    "          '5-10 years':8, '10-20 years':16,'20+ years':17}\n",
    "df['Q6'] = df['Q6'].map(Q6)\n",
    "\n",
    "Q15 = {'I do not use machine learning methods':0, 'Under 1 year':1, '1-2 years':2, '2-3 years':3,\n",
    "          '3-4 years':4, '4-5 years':5,'5-10 years':8, '10-20 years':16, '20 or more years':17}\n",
    "df['Q15'] = df['Q15'].map(Q15)\n",
    "\n",
    "Q13 = {'Never':0, 'Once':1, '2-5 times':3, '6-25 times':15,\n",
    "          'More than 25 times':16}\n",
    "df['Q13'] = df['Q13'].map(Q13)\n",
    "\n",
    "Q20 = {'0-49 employees':0, '50-249 employees':1, '250-999 employees':2, '1000-9,999 employees':3,\n",
    "          '10,000 or more employees':4}\n",
    "df['Q20'] = df['Q20'].map(Q20)\n",
    "\n",
    "Q21 = {'0':0, '1-2':1, '3-4':2, '5-9':3,\n",
    "          '10-14':4, '15-19': 5, '20+':6}\n",
    "df['Q21'] = df['Q21'].map(Q21)\n",
    "\n",
    "Q25 = { \"$0 ($USD)\":0, \"$1-$99\":1, \"$100-$999\":2, \"$1000-$9,999\":3,\n",
    "          \"$10,000-$99,999\":4, \"$100,000 or more ($USD)\": 5}\n",
    "df['Q25'] = df['Q25'].map(Q25)\n"
   ]
  },
  {
   "cell_type": "markdown",
   "metadata": {},
   "source": [
    "There are many columns that, after encoding had the same title such as 'Other.' To combat this issue, i replaced all the other columns with their corresponding question to differentiate them. "
   ]
  },
  {
   "cell_type": "code",
   "execution_count": 14,
   "metadata": {},
   "outputs": [],
   "source": [
    "#replacing 'other' in features to determine which feature it is coming from\n",
    "df['Q3'].replace(['Other'], 'Other_Country', inplace = True)\n",
    "df['Q5'].replace(['Other'], 'Other_JobTitle', inplace = True)\n",
    "df['Q8'].replace(['Other'], 'Other_primarytool', inplace = True)\n",
    "df['Q11'].replace(['None'], 'None_computing_platform', inplace = True)"
   ]
  },
  {
   "cell_type": "code",
   "execution_count": 15,
   "metadata": {},
   "outputs": [
    {
     "data": {
      "text/plain": [
       "Index([], dtype='object')"
      ]
     },
     "execution_count": 15,
     "metadata": {},
     "output_type": "execute_result"
    }
   ],
   "source": [
    "#making sure no values are null anymore\n",
    "df.columns[df.isnull().any()]"
   ]
  },
  {
   "cell_type": "markdown",
   "metadata": {},
   "source": [
    "### Country Data"
   ]
  },
  {
   "cell_type": "markdown",
   "metadata": {},
   "source": [
    "There are about 55 different countries that are listed in the country column (Q3). To label encode this data would assume an order and to one hot encode or dummy encode this data would cause the dataframe to become too large. Therefore, after taking a look at the value counts of each country it was deemed appropriate to keep India and United States of America as values and then group all the other countries into the 'Other Country' column as they have significantly smaller value counts. \n",
    "\n",
    "Doing this then allows us to One Hot Code this column so that only 3 columns are added instead of roughly 55. "
   ]
  },
  {
   "cell_type": "code",
   "execution_count": 16,
   "metadata": {},
   "outputs": [
    {
     "data": {
      "text/plain": [
       "India                                                   2353\n",
       "United States of America                                1484\n",
       "Other_Country                                            815\n",
       "Brazil                                                   443\n",
       "Japan                                                    385\n",
       "Russia                                                   351\n",
       "United Kingdom of Great Britain and Northern Ireland     350\n",
       "Germany                                                  256\n",
       "Nigeria                                                  246\n",
       "Spain                                                    234\n",
       "Canada                                                   198\n",
       "France                                                   197\n",
       "Italy                                                    184\n",
       "China                                                    166\n",
       "Turkey                                                   166\n",
       "Australia                                                147\n",
       "Mexico                                                   138\n",
       "Indonesia                                                127\n",
       "Taiwan                                                   123\n",
       "Pakistan                                                 121\n",
       "Colombia                                                 120\n",
       "Ukraine                                                  114\n",
       "Netherlands                                              113\n",
       "Poland                                                    98\n",
       "Egypt                                                     92\n",
       "Singapore                                                 88\n",
       "South Korea                                               87\n",
       "Portugal                                                  87\n",
       "Argentina                                                 83\n",
       "Viet Nam                                                  83\n",
       "South Africa                                              79\n",
       "Iran, Islamic Republic of...                              77\n",
       "Kenya                                                     75\n",
       "Thailand                                                  74\n",
       "Greece                                                    65\n",
       "Israel                                                    64\n",
       "Chile                                                     62\n",
       "Peru                                                      62\n",
       "Morocco                                                   60\n",
       "Sweden                                                    55\n",
       "Malaysia                                                  54\n",
       "Philippines                                               51\n",
       "Tunisia                                                   50\n",
       "Switzerland                                               48\n",
       "Saudi Arabia                                              47\n",
       "Bangladesh                                                46\n",
       "United Arab Emirates                                      45\n",
       "Republic of Korea                                         42\n",
       "Sri Lanka                                                 38\n",
       "Romania                                                   38\n",
       "Belarus                                                   37\n",
       "Ireland                                                   35\n",
       "Belgium                                                   35\n",
       "Ghana                                                     21\n",
       "Nepal                                                     20\n",
       "Name: Q3, dtype: int64"
      ]
     },
     "execution_count": 16,
     "metadata": {},
     "output_type": "execute_result"
    }
   ],
   "source": [
    "df['Q3'].value_counts()"
   ]
  },
  {
   "cell_type": "code",
   "execution_count": 17,
   "metadata": {},
   "outputs": [],
   "source": [
    "# Change the rest of the countries as Other\n",
    "countries = [\"India\", \"United States of America\"]\n",
    "df[\"Q3\"]=df[\"Q3\"].apply(lambda x: x if x in countries else \"Other_Country\")"
   ]
  },
  {
   "cell_type": "markdown",
   "metadata": {},
   "source": [
    "#### One Hot Encoding"
   ]
  },
  {
   "cell_type": "markdown",
   "metadata": {},
   "source": [
    "For Q2,Q3,Q4,Q5,Q11,Q22, and Q38 One Hot encoding using the binary strategy was used. The binary strategy essentially means that each category value was converted into a new column and assigned 1 or 0 based on that columns encoded value. "
   ]
  },
  {
   "cell_type": "code",
   "execution_count": 18,
   "metadata": {},
   "outputs": [],
   "source": [
    "#One hot encoding\n",
    "\n",
    "catecols = ['Q2', 'Q4', 'Q8', 'Q3', 'Q5', 'Q22', 'Q38', 'Q11']\n",
    "for col in catecols: \n",
    "    dfeat = pd.get_dummies(df[col], prefix=col, drop_first=True)\n",
    "    #adding the new feature to the dataframe\n",
    "    df = pd.concat([df, dfeat], axis=1)\n",
    "    #dropping the original feature column\n",
    "    df.drop(col, axis=1, inplace=True)"
   ]
  },
  {
   "cell_type": "code",
   "execution_count": 19,
   "metadata": {},
   "outputs": [
    {
     "data": {
      "text/plain": [
       "Index([], dtype='object')"
      ]
     },
     "execution_count": 19,
     "metadata": {},
     "output_type": "execute_result"
    }
   ],
   "source": [
    "#checking to make sure there are no more missing values\n",
    "df.columns[df.isnull().any()]"
   ]
  },
  {
   "cell_type": "code",
   "execution_count": 20,
   "metadata": {},
   "outputs": [
    {
     "data": {
      "text/plain": [
       "array(['100,000-124,999', '10,000-19,999', '125,000-149,9991',\n",
       "       '70,000-79,999', '30,000-39,999', '90,000-99,999', '0-9,999',\n",
       "       '150,000-199,999', '60,000-69,999', '>250,000', '40,000-49,999',\n",
       "       '20,000-29,999', '80,000-89,999', '50,000-59,999',\n",
       "       '200,000-249,999'], dtype=object)"
      ]
     },
     "execution_count": 20,
     "metadata": {},
     "output_type": "execute_result"
    }
   ],
   "source": [
    "#looking to see what all the unique values are in Q24 - these are the target variables\n",
    "df['Q24_buckets'].unique()"
   ]
  },
  {
   "cell_type": "markdown",
   "metadata": {},
   "source": [
    "Deleting Q24 and Q24_buckets as they are not integers and the Q24_encoded feature already represents the salary ranges\n",
    "Ranges: \n",
    "- 0 : 0-9,999\n",
    "- 1: 10,000 - 19,999\n",
    "- 2: 20,000 - 29,999\n",
    "- 3: 30,000 - 39,999\n",
    "- 4: 40,000 - 49,999\n",
    "- 5: 50,000 - 59,999\n",
    "- 6: 60,000 - 69,999\n",
    "- 7: 70,000 - 79,999\n",
    "- 8: 80,000 - 89,999\n",
    "- 9: 90,000 - 99,999\n",
    "- 10: 100,000 - 124,999\n",
    "- 11: 125,000 - 149,999\n",
    "- 12: 150,000 - 199,999\n",
    "- 13: 200,000 - 249,999\n",
    "- 14: >250,000"
   ]
  },
  {
   "cell_type": "code",
   "execution_count": 21,
   "metadata": {},
   "outputs": [],
   "source": [
    "del df['Q24']"
   ]
  },
  {
   "cell_type": "code",
   "execution_count": 22,
   "metadata": {},
   "outputs": [],
   "source": [
    "del df['Q24_buckets']"
   ]
  },
  {
   "cell_type": "code",
   "execution_count": 23,
   "metadata": {},
   "outputs": [],
   "source": [
    "df['Q24_Encoded'] = df['Q24_Encoded'].astype(int) "
   ]
  },
  {
   "cell_type": "code",
   "execution_count": 24,
   "metadata": {},
   "outputs": [
    {
     "data": {
      "text/html": [
       "<div>\n",
       "<style scoped>\n",
       "    .dataframe tbody tr th:only-of-type {\n",
       "        vertical-align: middle;\n",
       "    }\n",
       "\n",
       "    .dataframe tbody tr th {\n",
       "        vertical-align: top;\n",
       "    }\n",
       "\n",
       "    .dataframe thead th {\n",
       "        text-align: right;\n",
       "    }\n",
       "</style>\n",
       "<table border=\"1\" class=\"dataframe\">\n",
       "  <thead>\n",
       "    <tr style=\"text-align: right;\">\n",
       "      <th></th>\n",
       "      <th>Q1</th>\n",
       "      <th>Q6</th>\n",
       "      <th>Q7_Part_1</th>\n",
       "      <th>Q7_Part_2</th>\n",
       "      <th>Q7_Part_3</th>\n",
       "      <th>Q7_Part_4</th>\n",
       "      <th>Q7_Part_5</th>\n",
       "      <th>Q7_Part_6</th>\n",
       "      <th>Q7_Part_7</th>\n",
       "      <th>Q7_Part_8</th>\n",
       "      <th>...</th>\n",
       "      <th>Q22_We use ML methods for generating insights (but do not put working models into production)</th>\n",
       "      <th>Q38_Basic statistical software (Microsoft Excel, Google Sheets, etc.)</th>\n",
       "      <th>Q38_Business intelligence software (Salesforce, Tableau, Spotfire, etc.)</th>\n",
       "      <th>Q38_Cloud-based data software &amp; APIs (AWS, GCP, Azure, etc.)</th>\n",
       "      <th>Q38_Local development environments (RStudio, JupyterLab, etc.)</th>\n",
       "      <th>Q38_Other</th>\n",
       "      <th>Q11_A deep learning workstation (NVIDIA GTX, LambdaLabs, etc)</th>\n",
       "      <th>Q11_A personal computer or laptop</th>\n",
       "      <th>Q11_None_computing_platform</th>\n",
       "      <th>Q11_Other</th>\n",
       "    </tr>\n",
       "  </thead>\n",
       "  <tbody>\n",
       "    <tr>\n",
       "      <th>1</th>\n",
       "      <td>32</td>\n",
       "      <td>8</td>\n",
       "      <td>1</td>\n",
       "      <td>1</td>\n",
       "      <td>1</td>\n",
       "      <td>0</td>\n",
       "      <td>0</td>\n",
       "      <td>0</td>\n",
       "      <td>0</td>\n",
       "      <td>0</td>\n",
       "      <td>...</td>\n",
       "      <td>0</td>\n",
       "      <td>0</td>\n",
       "      <td>1</td>\n",
       "      <td>0</td>\n",
       "      <td>0</td>\n",
       "      <td>0</td>\n",
       "      <td>0</td>\n",
       "      <td>1</td>\n",
       "      <td>0</td>\n",
       "      <td>0</td>\n",
       "    </tr>\n",
       "    <tr>\n",
       "      <th>2</th>\n",
       "      <td>37</td>\n",
       "      <td>16</td>\n",
       "      <td>0</td>\n",
       "      <td>0</td>\n",
       "      <td>0</td>\n",
       "      <td>0</td>\n",
       "      <td>0</td>\n",
       "      <td>1</td>\n",
       "      <td>1</td>\n",
       "      <td>0</td>\n",
       "      <td>...</td>\n",
       "      <td>0</td>\n",
       "      <td>1</td>\n",
       "      <td>0</td>\n",
       "      <td>0</td>\n",
       "      <td>0</td>\n",
       "      <td>0</td>\n",
       "      <td>0</td>\n",
       "      <td>1</td>\n",
       "      <td>0</td>\n",
       "      <td>0</td>\n",
       "    </tr>\n",
       "    <tr>\n",
       "      <th>3</th>\n",
       "      <td>32</td>\n",
       "      <td>8</td>\n",
       "      <td>1</td>\n",
       "      <td>0</td>\n",
       "      <td>1</td>\n",
       "      <td>0</td>\n",
       "      <td>0</td>\n",
       "      <td>0</td>\n",
       "      <td>0</td>\n",
       "      <td>0</td>\n",
       "      <td>...</td>\n",
       "      <td>0</td>\n",
       "      <td>0</td>\n",
       "      <td>0</td>\n",
       "      <td>0</td>\n",
       "      <td>1</td>\n",
       "      <td>0</td>\n",
       "      <td>0</td>\n",
       "      <td>0</td>\n",
       "      <td>0</td>\n",
       "      <td>0</td>\n",
       "    </tr>\n",
       "    <tr>\n",
       "      <th>4</th>\n",
       "      <td>37</td>\n",
       "      <td>8</td>\n",
       "      <td>1</td>\n",
       "      <td>0</td>\n",
       "      <td>1</td>\n",
       "      <td>0</td>\n",
       "      <td>0</td>\n",
       "      <td>0</td>\n",
       "      <td>0</td>\n",
       "      <td>0</td>\n",
       "      <td>...</td>\n",
       "      <td>0</td>\n",
       "      <td>0</td>\n",
       "      <td>0</td>\n",
       "      <td>1</td>\n",
       "      <td>0</td>\n",
       "      <td>0</td>\n",
       "      <td>0</td>\n",
       "      <td>0</td>\n",
       "      <td>0</td>\n",
       "      <td>0</td>\n",
       "    </tr>\n",
       "    <tr>\n",
       "      <th>5</th>\n",
       "      <td>37</td>\n",
       "      <td>2</td>\n",
       "      <td>0</td>\n",
       "      <td>1</td>\n",
       "      <td>0</td>\n",
       "      <td>0</td>\n",
       "      <td>0</td>\n",
       "      <td>0</td>\n",
       "      <td>0</td>\n",
       "      <td>0</td>\n",
       "      <td>...</td>\n",
       "      <td>1</td>\n",
       "      <td>0</td>\n",
       "      <td>0</td>\n",
       "      <td>0</td>\n",
       "      <td>1</td>\n",
       "      <td>0</td>\n",
       "      <td>0</td>\n",
       "      <td>1</td>\n",
       "      <td>0</td>\n",
       "      <td>0</td>\n",
       "    </tr>\n",
       "  </tbody>\n",
       "</table>\n",
       "<p>5 rows × 392 columns</p>\n",
       "</div>"
      ],
      "text/plain": [
       "   Q1  Q6  Q7_Part_1  Q7_Part_2  Q7_Part_3  Q7_Part_4  Q7_Part_5  Q7_Part_6  \\\n",
       "1  32   8          1          1          1          0          0          0   \n",
       "2  37  16          0          0          0          0          0          1   \n",
       "3  32   8          1          0          1          0          0          0   \n",
       "4  37   8          1          0          1          0          0          0   \n",
       "5  37   2          0          1          0          0          0          0   \n",
       "\n",
       "   Q7_Part_7  Q7_Part_8  ...  \\\n",
       "1          0          0  ...   \n",
       "2          1          0  ...   \n",
       "3          0          0  ...   \n",
       "4          0          0  ...   \n",
       "5          0          0  ...   \n",
       "\n",
       "   Q22_We use ML methods for generating insights (but do not put working models into production)  \\\n",
       "1                                                  0                                               \n",
       "2                                                  0                                               \n",
       "3                                                  0                                               \n",
       "4                                                  0                                               \n",
       "5                                                  1                                               \n",
       "\n",
       "   Q38_Basic statistical software (Microsoft Excel, Google Sheets, etc.)  \\\n",
       "1                                                  0                       \n",
       "2                                                  1                       \n",
       "3                                                  0                       \n",
       "4                                                  0                       \n",
       "5                                                  0                       \n",
       "\n",
       "   Q38_Business intelligence software (Salesforce, Tableau, Spotfire, etc.)  \\\n",
       "1                                                  1                          \n",
       "2                                                  0                          \n",
       "3                                                  0                          \n",
       "4                                                  0                          \n",
       "5                                                  0                          \n",
       "\n",
       "   Q38_Cloud-based data software & APIs (AWS, GCP, Azure, etc.)  \\\n",
       "1                                                  0              \n",
       "2                                                  0              \n",
       "3                                                  0              \n",
       "4                                                  1              \n",
       "5                                                  0              \n",
       "\n",
       "   Q38_Local development environments (RStudio, JupyterLab, etc.)  Q38_Other  \\\n",
       "1                                                  0                       0   \n",
       "2                                                  0                       0   \n",
       "3                                                  1                       0   \n",
       "4                                                  0                       0   \n",
       "5                                                  1                       0   \n",
       "\n",
       "   Q11_A deep learning workstation (NVIDIA GTX, LambdaLabs, etc)  \\\n",
       "1                                                  0               \n",
       "2                                                  0               \n",
       "3                                                  0               \n",
       "4                                                  0               \n",
       "5                                                  0               \n",
       "\n",
       "   Q11_A personal computer or laptop  Q11_None_computing_platform  Q11_Other  \n",
       "1                                  1                            0          0  \n",
       "2                                  1                            0          0  \n",
       "3                                  0                            0          0  \n",
       "4                                  0                            0          0  \n",
       "5                                  1                            0          0  \n",
       "\n",
       "[5 rows x 392 columns]"
      ]
     },
     "execution_count": 24,
     "metadata": {},
     "output_type": "execute_result"
    }
   ],
   "source": [
    "#viewing the new data frame with the data cleaning\n",
    "df.head()"
   ]
  },
  {
   "cell_type": "markdown",
   "metadata": {},
   "source": [
    "### Centering and Scaling the Data"
   ]
  },
  {
   "cell_type": "markdown",
   "metadata": {},
   "source": [
    "Since the data does contain some columns that are of different units of measurement, centering and scaling the data can be appropriate. \n",
    "In this case, a lot of the data is binary, in these types of dataframes typically there is no need for scaling the data since most of the values are either 1 or 0."
   ]
  },
  {
   "cell_type": "markdown",
   "metadata": {},
   "source": [
    "## Question 2: Exploratory data analysis and feature selection\n",
    "In question one only a few features were removed that we know have almost no correlection to salary therefore even if it may affect the analysis a little, it is acceptable. \n",
    "In this section we will \n",
    "- visusalize the order of feature importance (correlation plot or similar method)\n",
    "- find which original attributes in the data are most related to a survey respondents yearly compensation\n",
    "- apply feature engineering and select the features to be used for analysis either manually or through some feature selection algorithm (one feature technique will atleast be used)"
   ]
  },
  {
   "cell_type": "markdown",
   "metadata": {},
   "source": [
    "2.1 Creating a Correlation Plot"
   ]
  },
  {
   "cell_type": "code",
   "execution_count": 25,
   "metadata": {},
   "outputs": [
    {
     "data": {
      "text/html": [
       "<div>\n",
       "<style scoped>\n",
       "    .dataframe tbody tr th:only-of-type {\n",
       "        vertical-align: middle;\n",
       "    }\n",
       "\n",
       "    .dataframe tbody tr th {\n",
       "        vertical-align: top;\n",
       "    }\n",
       "\n",
       "    .dataframe thead th {\n",
       "        text-align: right;\n",
       "    }\n",
       "</style>\n",
       "<table border=\"1\" class=\"dataframe\">\n",
       "  <thead>\n",
       "    <tr style=\"text-align: right;\">\n",
       "      <th></th>\n",
       "      <th>Q1</th>\n",
       "      <th>Q6</th>\n",
       "      <th>Q7_Part_1</th>\n",
       "      <th>Q7_Part_2</th>\n",
       "      <th>Q7_Part_3</th>\n",
       "      <th>Q7_Part_4</th>\n",
       "      <th>Q7_Part_5</th>\n",
       "      <th>Q7_Part_6</th>\n",
       "      <th>Q7_Part_7</th>\n",
       "      <th>Q7_Part_8</th>\n",
       "      <th>...</th>\n",
       "      <th>Q22_We use ML methods for generating insights (but do not put working models into production)</th>\n",
       "      <th>Q38_Basic statistical software (Microsoft Excel, Google Sheets, etc.)</th>\n",
       "      <th>Q38_Business intelligence software (Salesforce, Tableau, Spotfire, etc.)</th>\n",
       "      <th>Q38_Cloud-based data software &amp; APIs (AWS, GCP, Azure, etc.)</th>\n",
       "      <th>Q38_Local development environments (RStudio, JupyterLab, etc.)</th>\n",
       "      <th>Q38_Other</th>\n",
       "      <th>Q11_A deep learning workstation (NVIDIA GTX, LambdaLabs, etc)</th>\n",
       "      <th>Q11_A personal computer or laptop</th>\n",
       "      <th>Q11_None_computing_platform</th>\n",
       "      <th>Q11_Other</th>\n",
       "    </tr>\n",
       "  </thead>\n",
       "  <tbody>\n",
       "    <tr>\n",
       "      <th>Q1</th>\n",
       "      <td>1.000000</td>\n",
       "      <td>0.526335</td>\n",
       "      <td>-0.126893</td>\n",
       "      <td>0.075319</td>\n",
       "      <td>0.013864</td>\n",
       "      <td>0.005109</td>\n",
       "      <td>-0.011399</td>\n",
       "      <td>-0.006942</td>\n",
       "      <td>0.010735</td>\n",
       "      <td>0.020553</td>\n",
       "      <td>...</td>\n",
       "      <td>0.013340</td>\n",
       "      <td>0.034343</td>\n",
       "      <td>-0.012681</td>\n",
       "      <td>-0.018809</td>\n",
       "      <td>-0.067746</td>\n",
       "      <td>0.029247</td>\n",
       "      <td>0.016476</td>\n",
       "      <td>-0.000779</td>\n",
       "      <td>-0.014053</td>\n",
       "      <td>0.046710</td>\n",
       "    </tr>\n",
       "    <tr>\n",
       "      <th>Q6</th>\n",
       "      <td>0.526335</td>\n",
       "      <td>1.000000</td>\n",
       "      <td>0.087820</td>\n",
       "      <td>0.082225</td>\n",
       "      <td>0.162154</td>\n",
       "      <td>0.126365</td>\n",
       "      <td>0.132864</td>\n",
       "      <td>0.146959</td>\n",
       "      <td>0.153622</td>\n",
       "      <td>0.073532</td>\n",
       "      <td>...</td>\n",
       "      <td>0.020863</td>\n",
       "      <td>-0.084173</td>\n",
       "      <td>-0.040339</td>\n",
       "      <td>0.057038</td>\n",
       "      <td>0.029635</td>\n",
       "      <td>0.042022</td>\n",
       "      <td>0.082464</td>\n",
       "      <td>-0.149246</td>\n",
       "      <td>-0.019898</td>\n",
       "      <td>0.096408</td>\n",
       "    </tr>\n",
       "    <tr>\n",
       "      <th>Q7_Part_1</th>\n",
       "      <td>-0.126893</td>\n",
       "      <td>0.087820</td>\n",
       "      <td>1.000000</td>\n",
       "      <td>-0.008820</td>\n",
       "      <td>0.152585</td>\n",
       "      <td>0.066780</td>\n",
       "      <td>0.096250</td>\n",
       "      <td>0.061770</td>\n",
       "      <td>0.060556</td>\n",
       "      <td>0.016232</td>\n",
       "      <td>...</td>\n",
       "      <td>0.029425</td>\n",
       "      <td>-0.072173</td>\n",
       "      <td>-0.001396</td>\n",
       "      <td>0.061918</td>\n",
       "      <td>0.086410</td>\n",
       "      <td>-0.018577</td>\n",
       "      <td>0.092081</td>\n",
       "      <td>-0.144641</td>\n",
       "      <td>-0.084419</td>\n",
       "      <td>0.021150</td>\n",
       "    </tr>\n",
       "    <tr>\n",
       "      <th>Q7_Part_2</th>\n",
       "      <td>0.075319</td>\n",
       "      <td>0.082225</td>\n",
       "      <td>-0.008820</td>\n",
       "      <td>1.000000</td>\n",
       "      <td>0.134431</td>\n",
       "      <td>-0.002212</td>\n",
       "      <td>-0.020180</td>\n",
       "      <td>-0.050314</td>\n",
       "      <td>-0.052433</td>\n",
       "      <td>0.076550</td>\n",
       "      <td>...</td>\n",
       "      <td>0.072797</td>\n",
       "      <td>-0.158509</td>\n",
       "      <td>-0.015440</td>\n",
       "      <td>-0.035789</td>\n",
       "      <td>0.138723</td>\n",
       "      <td>-0.051977</td>\n",
       "      <td>-0.022740</td>\n",
       "      <td>0.024583</td>\n",
       "      <td>-0.045596</td>\n",
       "      <td>0.021609</td>\n",
       "    </tr>\n",
       "    <tr>\n",
       "      <th>Q7_Part_3</th>\n",
       "      <td>0.013864</td>\n",
       "      <td>0.162154</td>\n",
       "      <td>0.152585</td>\n",
       "      <td>0.134431</td>\n",
       "      <td>1.000000</td>\n",
       "      <td>0.035051</td>\n",
       "      <td>0.025453</td>\n",
       "      <td>0.164022</td>\n",
       "      <td>0.197104</td>\n",
       "      <td>0.018104</td>\n",
       "      <td>...</td>\n",
       "      <td>0.021592</td>\n",
       "      <td>-0.078430</td>\n",
       "      <td>0.108628</td>\n",
       "      <td>0.063460</td>\n",
       "      <td>0.002846</td>\n",
       "      <td>-0.027404</td>\n",
       "      <td>-0.050218</td>\n",
       "      <td>-0.052819</td>\n",
       "      <td>-0.010832</td>\n",
       "      <td>0.014940</td>\n",
       "    </tr>\n",
       "  </tbody>\n",
       "</table>\n",
       "<p>5 rows × 392 columns</p>\n",
       "</div>"
      ],
      "text/plain": [
       "                 Q1        Q6  Q7_Part_1  Q7_Part_2  Q7_Part_3  Q7_Part_4  \\\n",
       "Q1         1.000000  0.526335  -0.126893   0.075319   0.013864   0.005109   \n",
       "Q6         0.526335  1.000000   0.087820   0.082225   0.162154   0.126365   \n",
       "Q7_Part_1 -0.126893  0.087820   1.000000  -0.008820   0.152585   0.066780   \n",
       "Q7_Part_2  0.075319  0.082225  -0.008820   1.000000   0.134431  -0.002212   \n",
       "Q7_Part_3  0.013864  0.162154   0.152585   0.134431   1.000000   0.035051   \n",
       "\n",
       "           Q7_Part_5  Q7_Part_6  Q7_Part_7  Q7_Part_8  ...  \\\n",
       "Q1         -0.011399  -0.006942   0.010735   0.020553  ...   \n",
       "Q6          0.132864   0.146959   0.153622   0.073532  ...   \n",
       "Q7_Part_1   0.096250   0.061770   0.060556   0.016232  ...   \n",
       "Q7_Part_2  -0.020180  -0.050314  -0.052433   0.076550  ...   \n",
       "Q7_Part_3   0.025453   0.164022   0.197104   0.018104  ...   \n",
       "\n",
       "           Q22_We use ML methods for generating insights (but do not put working models into production)  \\\n",
       "Q1                                                  0.013340                                               \n",
       "Q6                                                  0.020863                                               \n",
       "Q7_Part_1                                           0.029425                                               \n",
       "Q7_Part_2                                           0.072797                                               \n",
       "Q7_Part_3                                           0.021592                                               \n",
       "\n",
       "           Q38_Basic statistical software (Microsoft Excel, Google Sheets, etc.)  \\\n",
       "Q1                                                  0.034343                       \n",
       "Q6                                                 -0.084173                       \n",
       "Q7_Part_1                                          -0.072173                       \n",
       "Q7_Part_2                                          -0.158509                       \n",
       "Q7_Part_3                                          -0.078430                       \n",
       "\n",
       "           Q38_Business intelligence software (Salesforce, Tableau, Spotfire, etc.)  \\\n",
       "Q1                                                 -0.012681                          \n",
       "Q6                                                 -0.040339                          \n",
       "Q7_Part_1                                          -0.001396                          \n",
       "Q7_Part_2                                          -0.015440                          \n",
       "Q7_Part_3                                           0.108628                          \n",
       "\n",
       "           Q38_Cloud-based data software & APIs (AWS, GCP, Azure, etc.)  \\\n",
       "Q1                                                 -0.018809              \n",
       "Q6                                                  0.057038              \n",
       "Q7_Part_1                                           0.061918              \n",
       "Q7_Part_2                                          -0.035789              \n",
       "Q7_Part_3                                           0.063460              \n",
       "\n",
       "           Q38_Local development environments (RStudio, JupyterLab, etc.)  \\\n",
       "Q1                                                 -0.067746                \n",
       "Q6                                                  0.029635                \n",
       "Q7_Part_1                                           0.086410                \n",
       "Q7_Part_2                                           0.138723                \n",
       "Q7_Part_3                                           0.002846                \n",
       "\n",
       "           Q38_Other  \\\n",
       "Q1          0.029247   \n",
       "Q6          0.042022   \n",
       "Q7_Part_1  -0.018577   \n",
       "Q7_Part_2  -0.051977   \n",
       "Q7_Part_3  -0.027404   \n",
       "\n",
       "           Q11_A deep learning workstation (NVIDIA GTX, LambdaLabs, etc)  \\\n",
       "Q1                                                  0.016476               \n",
       "Q6                                                  0.082464               \n",
       "Q7_Part_1                                           0.092081               \n",
       "Q7_Part_2                                          -0.022740               \n",
       "Q7_Part_3                                          -0.050218               \n",
       "\n",
       "           Q11_A personal computer or laptop  Q11_None_computing_platform  \\\n",
       "Q1                                 -0.000779                    -0.014053   \n",
       "Q6                                 -0.149246                    -0.019898   \n",
       "Q7_Part_1                          -0.144641                    -0.084419   \n",
       "Q7_Part_2                           0.024583                    -0.045596   \n",
       "Q7_Part_3                          -0.052819                    -0.010832   \n",
       "\n",
       "           Q11_Other  \n",
       "Q1          0.046710  \n",
       "Q6          0.096408  \n",
       "Q7_Part_1   0.021150  \n",
       "Q7_Part_2   0.021609  \n",
       "Q7_Part_3   0.014940  \n",
       "\n",
       "[5 rows x 392 columns]"
      ]
     },
     "execution_count": 25,
     "metadata": {},
     "output_type": "execute_result"
    }
   ],
   "source": [
    "#Prepare a correlation plot by creating the dataframe\n",
    "corr = df.corr()\n",
    "corr.head()"
   ]
  },
  {
   "cell_type": "code",
   "execution_count": 26,
   "metadata": {},
   "outputs": [
    {
     "data": {
      "text/plain": [
       "<AxesSubplot:>"
      ]
     },
     "execution_count": 26,
     "metadata": {},
     "output_type": "execute_result"
    },
    {
     "data": {
      "image/png": "[encoded data removed]",
      "text/plain": [
       "<Figure size 1440x1080 with 2 Axes>"
      ]
     },
     "metadata": {
      "needs_background": "light"
     },
     "output_type": "display_data"
    }
   ],
   "source": [
    "#plotting the correlation plot \n",
    "\n",
    "#selecting the Q24_Encoded feature as this is the encoded salary range data\n",
    "corr_Q24 = corr['Q24_Encoded']\n",
    "\n",
    "#creating the correlation plot with matplotlib library\n",
    "corrplot, ax = plt.subplots(figsize=(20,15))\n",
    "#creating a list of the top 25 most correlated features to the encoded salary data\n",
    "top25 = list(corr_Q24.nlargest(25).index)\n",
    "corr = corr.loc[top25, top25]\n",
    "\n",
    "#creating a heatmap to better visualize the correlation\n",
    "sns.heatmap(corr, cmap = sns.diverging_palette(240, 275, n=295),vmax=1, center=0,\n",
    "            square=True, linewidths=.5, cbar_kws={\"shrink\": .75}, annot=True)\n"
   ]
  },
  {
   "cell_type": "markdown",
   "metadata": {},
   "source": [
    "Based off the correlation plot, the following attributes in the data are most related to a  survey respondents yearly compensation: \n",
    "1. Q3 - In which country did you reside? ANS: United States of America\n",
    "2. Q6 - For how many years have you been writing code and/or programming?\n",
    "3. Q25 - Approximately how much money have you (or your team) spend on machien learning and/or cloud computing services at home (or at work) in the past 5 years (approx $USD)\n",
    "4. Q1 - What is your age? \n",
    "5. Q15 - For how many years have you used machien learning methods? \n",
    "6. Q21 - Approximately how many individuals are responsible for data science workloads at your place of business? \n",
    "7. Q22 - Does your current employer incorpoate machine learning methods into their business? ANS: We have well establisehd ML methods (ie models in production for more than 2 years)\n",
    "8. Q20 - What is the size of the company where you are employed?\n",
    "9. Q23_Part_3 - Select any activities that make up an important part of your role at work: ANS: Built prototypes to explore applying machine learning to new areas\n",
    "10. Q26_A_Part_1 - Which of the following cloud computing platforms do you use on a regular basis? ANS: Amazon Web Services (AWS)\n"
   ]
  },
  {
   "cell_type": "code",
   "execution_count": 27,
   "metadata": {},
   "outputs": [
    {
     "name": "stdout",
     "output_type": "stream",
     "text": [
      "Requirement already satisfied: seaborn==0.10.0.rc0 in /home/jupyterlab/conda/envs/python/lib/python3.6/site-packages (0.10.0rc0)\n",
      "Requirement already satisfied: pandas>=0.22.0 in /home/jupyterlab/conda/envs/python/lib/python3.6/site-packages (from seaborn==0.10.0.rc0) (1.1.5)\n",
      "Requirement already satisfied: matplotlib>=2.1.2 in /home/jupyterlab/conda/envs/python/lib/python3.6/site-packages (from seaborn==0.10.0.rc0) (3.3.3)\n",
      "Requirement already satisfied: numpy>=1.13.3 in /home/jupyterlab/conda/envs/python/lib/python3.6/site-packages (from seaborn==0.10.0.rc0) (1.19.4)\n",
      "Requirement already satisfied: scipy>=1.0.1 in /home/jupyterlab/conda/envs/python/lib/python3.6/site-packages (from seaborn==0.10.0.rc0) (1.5.4)\n",
      "Requirement already satisfied: pytz>=2017.2 in /home/jupyterlab/conda/envs/python/lib/python3.6/site-packages (from pandas>=0.22.0->seaborn==0.10.0.rc0) (2020.4)\n",
      "Requirement already satisfied: python-dateutil>=2.7.3 in /home/jupyterlab/conda/envs/python/lib/python3.6/site-packages (from pandas>=0.22.0->seaborn==0.10.0.rc0) (2.8.1)\n",
      "Requirement already satisfied: pyparsing!=2.0.4,!=2.1.2,!=2.1.6,>=2.0.3 in /home/jupyterlab/conda/envs/python/lib/python3.6/site-packages (from matplotlib>=2.1.2->seaborn==0.10.0.rc0) (2.4.7)\n",
      "Requirement already satisfied: pillow>=6.2.0 in /home/jupyterlab/conda/envs/python/lib/python3.6/site-packages (from matplotlib>=2.1.2->seaborn==0.10.0.rc0) (8.0.1)\n",
      "Requirement already satisfied: kiwisolver>=1.0.1 in /home/jupyterlab/conda/envs/python/lib/python3.6/site-packages (from matplotlib>=2.1.2->seaborn==0.10.0.rc0) (1.3.1)\n",
      "Requirement already satisfied: cycler>=0.10 in /home/jupyterlab/conda/envs/python/lib/python3.6/site-packages (from matplotlib>=2.1.2->seaborn==0.10.0.rc0) (0.10.0)\n",
      "Requirement already satisfied: six>=1.5 in /home/jupyterlab/conda/envs/python/lib/python3.6/site-packages (from python-dateutil>=2.7.3->pandas>=0.22.0->seaborn==0.10.0.rc0) (1.15.0)\n",
      "Note: you may need to restart the kernel to use updated packages.\n"
     ]
    }
   ],
   "source": [
    "pip install seaborn==0.10.0.rc0"
   ]
  },
  {
   "cell_type": "markdown",
   "metadata": {},
   "source": [
    "### Feature Selection"
   ]
  },
  {
   "cell_type": "markdown",
   "metadata": {},
   "source": [
    "Feature selection is used to minimize the number of input variables one needs for a model to predict the target variable. There are many different techniques for feature selection. When deciding what type of feature selection technique you want to use, one must note the type of variables they have for their input and output. There are methods for feature selection that are better for a model with numerical inputs and numerical outputs than for a model with categorical inputs and categorical outputs (for example). \n",
    "\n",
    "The feature selection technique that was used in this model is Mutual Information with select K Best. Mutual information measures teh dependencies between the variables. When tow variables are independent from each other than the score is 0 and higher values mean higher dependency between the variables. The Select K best feature selection will then select the 20 best features based on the mutual information score. "
   ]
  },
  {
   "cell_type": "code",
   "execution_count": 28,
   "metadata": {},
   "outputs": [],
   "source": [
    "# Seperating the dataset first into the feature dataframe and target variable (for now we will be using Q24_Encoded but the true target variable is Q24_buckets)\n",
    "x = df.drop(['Q24_Encoded'],axis=1)\n",
    "y = df['Q24_Encoded']"
   ]
  },
  {
   "cell_type": "code",
   "execution_count": 29,
   "metadata": {},
   "outputs": [],
   "source": [
    "x = pd.DataFrame(x)\n",
    "y = pd.DataFrame(y)"
   ]
  },
  {
   "cell_type": "code",
   "execution_count": 30,
   "metadata": {},
   "outputs": [
    {
     "name": "stdout",
     "output_type": "stream",
     "text": [
      "(10729, 20)\n"
     ]
    }
   ],
   "source": [
    "#Feature selection techniques \n",
    "from sklearn.feature_selection import SelectKBest\n",
    "from sklearn.feature_selection import mutual_info_classif\n",
    "\n",
    "# define feature selection\n",
    "fs = SelectKBest(score_func = mutual_info_classif,k=20)\n",
    "#apply feature selection\n",
    "x = fs.fit_transform(x, y)\n",
    "print(x.shape)"
   ]
  },
  {
   "cell_type": "code",
   "execution_count": 31,
   "metadata": {},
   "outputs": [],
   "source": [
    "x = pd.DataFrame(x)"
   ]
  },
  {
   "cell_type": "markdown",
   "metadata": {},
   "source": [
    "## Q3: Model Implementation"
   ]
  },
  {
   "cell_type": "markdown",
   "metadata": {},
   "source": [
    "Ordinal Logisitc Regression on the training set using 10-fold cross-validation.\n",
    "\n",
    "1. The dataset is first split into training sets and tests sets\n",
    "2. The model is implemented \n",
    "3. The feature data sets (x_train, x_test) are scaled\n",
    "4. Each of the folds are printed with their corresponding accuracy and then the average accuracy and standard deviation\n",
    "    - accuracy score from sklearn is used to calculate the accuracy score \n"
   ]
  },
  {
   "cell_type": "code",
   "execution_count": 32,
   "metadata": {},
   "outputs": [],
   "source": [
    "# Splitting the dataset into training and testing sets \n",
    "x_train, x_test, y_train, y_test = train_test_split(x, y, random_state=42, test_size=0.3)"
   ]
  },
  {
   "cell_type": "code",
   "execution_count": 33,
   "metadata": {},
   "outputs": [],
   "source": [
    "x_train = pd.DataFrame(x_train)\n",
    "x_test = pd.DataFrame(x_test)\n",
    "y_train = pd.DataFrame(y_train)\n",
    "y_test = pd.DataFrame(y_test)"
   ]
  },
  {
   "cell_type": "code",
   "execution_count": 34,
   "metadata": {},
   "outputs": [
    {
     "name": "stdout",
     "output_type": "stream",
     "text": [
      "Fold 1: Accuracy: 0.436%\n",
      "Fold 2: Accuracy: 0.456%\n",
      "Fold 3: Accuracy: 0.414%\n",
      "Fold 4: Accuracy: 0.432%\n",
      "Fold 5: Accuracy: 0.421%\n",
      "Fold 6: Accuracy: 0.429%\n",
      "Fold 7: Accuracy: 0.424%\n",
      "Fold 8: Accuracy: 0.421%\n",
      "Fold 9: Accuracy: 0.416%\n",
      "Fold 10: Accuracy: 0.442%\n",
      "Average Score: 42.912%(1.227%)\n",
      "\n",
      "\n",
      "\n",
      "R2 Score: 0.08803728199293648\n",
      "\n",
      "MAE: 2.308768656716418\n",
      "\n",
      "MSE: 14.987873134328359\n",
      "\n",
      "RMSE: 3.8714174580285654\n",
      "\n",
      "\n",
      "              precision    recall  f1-score   support\n",
      "\n",
      "           0       0.50      0.96      0.66       459\n",
      "           1       0.15      0.04      0.06       114\n",
      "           2       0.00      0.00      0.00        67\n",
      "           3       0.20      0.02      0.03        60\n",
      "           4       0.00      0.00      0.00        48\n",
      "           5       0.08      0.04      0.05        47\n",
      "           6       0.00      0.00      0.00        37\n",
      "           7       0.00      0.00      0.00        44\n",
      "           8       0.00      0.00      0.00        28\n",
      "           9       0.00      0.00      0.00        26\n",
      "          10       0.21      0.26      0.23        53\n",
      "          11       0.00      0.00      0.00        29\n",
      "          12       0.34      0.30      0.32        37\n",
      "          13       0.00      0.00      0.00         6\n",
      "          14       0.00      0.00      0.00        17\n",
      "\n",
      "   micro avg       0.44      0.44      0.44      1072\n",
      "   macro avg       0.10      0.11      0.09      1072\n",
      "weighted avg       0.27      0.44      0.31      1072\n",
      "\n"
     ]
    }
   ],
   "source": [
    "#applying logisitic regression (refer to assignment 2 pdf for explanation of why this was used)\n",
    "model = OneVsRestClassifier(LogisticRegression()) \n",
    "scaler = StandardScaler()\n",
    "\n",
    "#10 fold \n",
    "kfold = KFold(n_splits=10)\n",
    "kfold.get_n_splits(x)\n",
    "\n",
    "accuracy = np.zeros(10)\n",
    "np_idx = 0\n",
    "\n",
    "#creating the folds \n",
    "for train_idx, test_idx in kfold.split(x):\n",
    "    x_train, x_test = x.values[train_idx], x.values[test_idx]\n",
    "    y_train, y_test = y.values[train_idx], y.values[test_idx]\n",
    "    \n",
    "    #scaling the data\n",
    "    x_train = scaler.fit_transform(x_train)\n",
    "    x_test = scaler.transform(x_test)\n",
    "    \n",
    "    #fitting the data to the training set\n",
    "    model.fit(x_train, y_train)\n",
    "    \n",
    "    predictions = model.predict(x_test)\n",
    "    \n",
    "    ACC = accuracy_score(y_test, predictions)\n",
    "    \n",
    "    accuracy[np_idx] = ACC*100\n",
    "    np_idx += 1\n",
    "    \n",
    "    print (\"Fold {}: Accuracy: {}%\".format(np_idx, round(ACC,3)))   \n",
    "\n",
    "print (\"Average Score: {}%({}%)\".format(round(np.mean(accuracy),3),round(np.std(accuracy),3)))\n",
    "print('\\n')\n",
    "print(\"\\nR2 Score:\", r2_score(y_test, predictions))\n",
    "print(\"\\nMAE:\", mean_absolute_error(y_test, predictions))\n",
    "print(\"\\nMSE:\", mean_squared_error(y_test, predictions))\n",
    "print(\"\\nRMSE:\", np.sqrt(mean_squared_error(y_test, predictions)))\n",
    "print('\\n')\n",
    "#performance measurements of the original model\n",
    "print(classification_report(y_test, predictions)) "
   ]
  },
  {
   "cell_type": "markdown",
   "metadata": {},
   "source": [
    "The average accuracy score is 42.716% with a standard deviation of 1.43%. \n",
    "The accuracy score accross the folds stayed pretty consistent ranging from 0.413% - 0.45% "
   ]
  },
  {
   "cell_type": "markdown",
   "metadata": {},
   "source": [
    "## Q4 Model Tuning"
   ]
  },
  {
   "cell_type": "markdown",
   "metadata": {},
   "source": [
    "Here all the hyperparameters of our model are given and then 2 are selected for hyperparameter tuning. The 2 that were chose for hyperparameter tuning were solver and C as those tend to have a big impact on the model when different spcifications/metrics are given. \n",
    "\n",
    "The optimal model will be created based off the results from using GridSearch. Performance measures using classification-report in sklearn will be used to explain the performance of the models and their differences/improvements. "
   ]
  },
  {
   "cell_type": "code",
   "execution_count": 35,
   "metadata": {},
   "outputs": [
    {
     "data": {
      "text/plain": [
       "<bound method BaseEstimator.get_params of OneVsRestClassifier(estimator=LogisticRegression(C=1.0, class_weight=None, dual=False, fit_intercept=True,\n",
       "          intercept_scaling=1, max_iter=100, multi_class='warn',\n",
       "          n_jobs=None, penalty='l2', random_state=None, solver='warn',\n",
       "          tol=0.0001, verbose=0, warm_start=False),\n",
       "          n_jobs=None)>"
      ]
     },
     "execution_count": 35,
     "metadata": {},
     "output_type": "execute_result"
    }
   ],
   "source": [
    "#outputting all the parameters\n",
    "model.get_params"
   ]
  },
  {
   "cell_type": "code",
   "execution_count": 36,
   "metadata": {},
   "outputs": [],
   "source": [
    "#setting up gridsearchCV with CV to see which values of hyperparameters will perform the best\n",
    "\n",
    "parameters = {\n",
    "    \"estimator__C\": [0.001,0.01,0.05,0.1,0.5,1,5,10, 100],\n",
    "    \"estimator__solver\": ['newton-cg','lbfgs','liblinear','sag']\n",
    "}\n",
    "\n",
    "\n",
    "logr = OneVsRestClassifier(LogisticRegression()) \n",
    "\n",
    "grid = GridSearchCV(estimator=logr, param_grid=parameters, n_jobs= -1)"
   ]
  },
  {
   "cell_type": "code",
   "execution_count": 37,
   "metadata": {},
   "outputs": [
    {
     "data": {
      "text/plain": [
       "GridSearchCV(cv='warn', error_score='raise-deprecating',\n",
       "       estimator=OneVsRestClassifier(estimator=LogisticRegression(C=1.0, class_weight=None, dual=False, fit_intercept=True,\n",
       "          intercept_scaling=1, max_iter=100, multi_class='warn',\n",
       "          n_jobs=None, penalty='l2', random_state=None, solver='warn',\n",
       "          tol=0.0001, verbose=0, warm_start=False),\n",
       "          n_jobs=None),\n",
       "       fit_params=None, iid='warn', n_jobs=-1,\n",
       "       param_grid={'estimator__C': [0.001, 0.01, 0.05, 0.1, 0.5, 1, 5, 10, 100], 'estimator__solver': ['newton-cg', 'lbfgs', 'liblinear', 'sag']},\n",
       "       pre_dispatch='2*n_jobs', refit=True, return_train_score='warn',\n",
       "       scoring=None, verbose=0)"
      ]
     },
     "execution_count": 37,
     "metadata": {},
     "output_type": "execute_result"
    }
   ],
   "source": [
    "grid.fit(x_train, y_train)"
   ]
  },
  {
   "cell_type": "code",
   "execution_count": 38,
   "metadata": {},
   "outputs": [
    {
     "name": "stdout",
     "output_type": "stream",
     "text": [
      "The best parameters are {'estimator__C': 0.05, 'estimator__solver': 'liblinear'} with a score of 0.43\n"
     ]
    }
   ],
   "source": [
    "#outputtingthe best parameters to use for our optimal model\n",
    "print(\"The best parameters are %s with a score of %0.2f\"\n",
    "      % (grid.best_params_, grid.best_score_))"
   ]
  },
  {
   "cell_type": "code",
   "execution_count": 39,
   "metadata": {},
   "outputs": [],
   "source": [
    "optimal_model = OneVsRestClassifier(LogisticRegression(C = 0.05, solver = 'liblinear'))\n",
    "scaler = StandardScaler()"
   ]
  },
  {
   "cell_type": "markdown",
   "metadata": {},
   "source": [
    "## Q5 Testing & Discussion"
   ]
  },
  {
   "cell_type": "markdown",
   "metadata": {},
   "source": [
    "Using the optimal model obtained in Q4 to make predictions on the test set. The dataframe is split again, scaled and the new model is fit to the training set and then used to make predictions for both the train set and test set for comparison. "
   ]
  },
  {
   "cell_type": "code",
   "execution_count": 40,
   "metadata": {},
   "outputs": [],
   "source": [
    "x = df.drop(['Q24_Encoded'],axis=1)\n",
    "y = df['Q24_Encoded']\n",
    "\n",
    "x_train, x_test, y_train, y_test = train_test_split(x, y, random_state=42, test_size=0.3)"
   ]
  },
  {
   "cell_type": "code",
   "execution_count": 41,
   "metadata": {},
   "outputs": [
    {
     "data": {
      "text/plain": [
       "OneVsRestClassifier(estimator=LogisticRegression(C=0.1, class_weight=None, dual=False, fit_intercept=True,\n",
       "          intercept_scaling=1, max_iter=100, multi_class='warn',\n",
       "          n_jobs=None, penalty='l2', random_state=None, solver='newton-cg',\n",
       "          tol=0.0001, verbose=0, warm_start=False),\n",
       "          n_jobs=None)"
      ]
     },
     "execution_count": 41,
     "metadata": {},
     "output_type": "execute_result"
    }
   ],
   "source": [
    "x_train = scaler.fit_transform(x_train)\n",
    "x_test = scaler.transform(x_test)\n",
    "\n",
    "optimal_model.fit(x_train,y_train)"
   ]
  },
  {
   "cell_type": "code",
   "execution_count": 42,
   "metadata": {},
   "outputs": [],
   "source": [
    "#predictions for training data and test data \n",
    "train_predictions = optimal_model.predict(x_train)\n",
    "test_predictions = optimal_model.predict(x_test)"
   ]
  },
  {
   "cell_type": "code",
   "execution_count": 43,
   "metadata": {},
   "outputs": [
    {
     "name": "stdout",
     "output_type": "stream",
     "text": [
      "              precision    recall  f1-score   support\n",
      "\n",
      "           0       0.59      0.92      0.72      3125\n",
      "           1       0.29      0.14      0.18       787\n",
      "           2       0.37      0.16      0.22       487\n",
      "           3       0.35      0.16      0.22       389\n",
      "           4       0.32      0.16      0.21       385\n",
      "           5       0.40      0.24      0.30       351\n",
      "           6       0.41      0.23      0.30       281\n",
      "           7       0.52      0.27      0.35       255\n",
      "           8       0.50      0.29      0.37       191\n",
      "           9       0.52      0.28      0.37       191\n",
      "          10       0.47      0.45      0.46       400\n",
      "          11       0.50      0.44      0.47       230\n",
      "          12       0.55      0.60      0.58       242\n",
      "          13       0.80      0.63      0.70        89\n",
      "          14       0.66      0.45      0.53       107\n",
      "\n",
      "   micro avg       0.54      0.54      0.54      7510\n",
      "   macro avg       0.48      0.36      0.40      7510\n",
      "weighted avg       0.49      0.54      0.49      7510\n",
      "\n",
      "\n",
      "\n",
      "\n",
      "R2 Score: 0.358156126571367\n",
      "\n",
      "MAE: 1.7503328894806924\n",
      "\n",
      "MSE: 10.832356857523303\n",
      "\n",
      "RMSE: 3.2912546023550506\n",
      "\n",
      "\n"
     ]
    }
   ],
   "source": [
    "#the classification report for the training set\n",
    "print(classification_report(y_train, train_predictions)) \n",
    "print('\\n')\n",
    "print(\"\\nR2 Score:\", r2_score(y_train, train_predictions))\n",
    "print(\"\\nMAE:\", mean_absolute_error(y_train, train_predictions))\n",
    "print(\"\\nMSE:\", mean_squared_error(y_train, train_predictions))\n",
    "print(\"\\nRMSE:\", np.sqrt(mean_squared_error(y_train, train_predictions)))\n",
    "print('\\n')"
   ]
  },
  {
   "cell_type": "code",
   "execution_count": 44,
   "metadata": {},
   "outputs": [
    {
     "name": "stdout",
     "output_type": "stream",
     "text": [
      "              precision    recall  f1-score   support\n",
      "\n",
      "           0       0.55      0.87      0.67      1316\n",
      "           1       0.13      0.07      0.09       327\n",
      "           2       0.11      0.04      0.06       227\n",
      "           3       0.05      0.03      0.04       151\n",
      "           4       0.05      0.02      0.03       167\n",
      "           5       0.13      0.08      0.10       159\n",
      "           6       0.08      0.04      0.05       127\n",
      "           7       0.09      0.04      0.06       139\n",
      "           8       0.02      0.01      0.02        82\n",
      "           9       0.04      0.02      0.03        89\n",
      "          10       0.17      0.14      0.15       173\n",
      "          11       0.07      0.07      0.07        85\n",
      "          12       0.18      0.16      0.17       105\n",
      "          13       0.00      0.00      0.00        26\n",
      "          14       0.11      0.09      0.10        46\n",
      "\n",
      "   micro avg       0.39      0.39      0.39      3219\n",
      "   macro avg       0.12      0.11      0.11      3219\n",
      "weighted avg       0.28      0.39      0.32      3219\n",
      "\n",
      "\n",
      "\n",
      "\n",
      "R2 Score: 0.096078018197847\n",
      "\n",
      "MAE: 2.396085740913327\n",
      "\n",
      "MSE: 14.87946567256912\n",
      "\n",
      "RMSE: 3.8573910448085402\n",
      "\n",
      "\n"
     ]
    }
   ],
   "source": [
    "#the classification report for the test set \n",
    "print(classification_report(y_test, test_predictions)) \n",
    "print('\\n')\n",
    "print(\"\\nR2 Score:\", r2_score(y_test, test_predictions))\n",
    "print(\"\\nMAE:\", mean_absolute_error(y_test, test_predictions))\n",
    "print(\"\\nMSE:\", mean_squared_error(y_test, test_predictions))\n",
    "print(\"\\nRMSE:\", np.sqrt(mean_squared_error(y_test, test_predictions)))\n",
    "print('\\n')"
   ]
  },
  {
   "cell_type": "code",
   "execution_count": 45,
   "metadata": {},
   "outputs": [],
   "source": [
    "y_test = pd.DataFrame(y_test)\n",
    "y_train = pd.DataFrame(y_train)\n",
    "test_predictions = pd.DataFrame(test_predictions)\n",
    "train_predictions = pd.DataFrame(train_predictions)"
   ]
  },
  {
   "cell_type": "markdown",
   "metadata": {},
   "source": [
    "Distribution plot of Target Variable"
   ]
  },
  {
   "cell_type": "code",
   "execution_count": 46,
   "metadata": {},
   "outputs": [
    {
     "data": {
      "text/plain": [
       "<matplotlib.legend.Legend at 0x7f7b08f27080>"
      ]
     },
     "execution_count": 46,
     "metadata": {},
     "output_type": "execute_result"
    },
    {
     "data": {
      "image/png": "[encoded data removed]",
      "text/plain": [
       "<Figure size 432x288 with 1 Axes>"
      ]
     },
     "metadata": {
      "needs_background": "light"
     },
     "output_type": "display_data"
    }
   ],
   "source": [
    "plt.hist(y_test, bins = 15, alpha=0.5, label = \"Target Variable Test\")\n",
    "plt.hist(test_predictions, bins = 15, alpha=0.5, label = \"Test Predictions\")\n",
    "plt.hist(y_train, bins = 15, alpha=0.5, label = \"Target Variable Train\")\n",
    "plt.hist(train_predictions, bins = 15, alpha=0.5, label = \"Train Predictions\")\n",
    "\n",
    "plt.xlabel(\"Salary\", size = 14)\n",
    "plt.ylabel(\"Samples\", size = 14)\n",
    "plt.title('Target Variable vs Predictions')\n",
    "plt.legend()"
   ]
  },
  {
   "cell_type": "markdown",
   "metadata": {},
   "source": [
    "Ordinal Logistic regression classes"
   ]
  },
  {
   "cell_type": "markdown",
   "metadata": {},
   "source": []
  }
 ],
 "metadata": {
  "kernelspec": {
   "display_name": "Python 3",
   "language": "python",
   "name": "python3"
  },
  "language_info": {
   "codemirror_mode": {
    "name": "ipython",
    "version": 3
   },
   "file_extension": ".py",
   "mimetype": "text/x-python",
   "name": "python",
   "nbconvert_exporter": "python",
   "pygments_lexer": "ipython3",
   "version": "3.8.8"
  }
 },
 "nbformat": 4,
 "nbformat_minor": 4
}
